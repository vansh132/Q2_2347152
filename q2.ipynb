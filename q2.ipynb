{
 "cells": [
  {
   "cell_type": "code",
   "execution_count": 7,
   "metadata": {},
   "outputs": [
    {
     "name": "stdout",
     "output_type": "stream",
     "text": [
      "Question1:\n",
      "Sub Que1\n",
      "[3, 6, 9, 12, 15, 12, 99]\n",
      "\n",
      "Sub Que2\n",
      "Even numbers:  [6, 12, 20, 12, 50, 100]\n",
      "Square of even numbers:  [36, 144, 400, 144, 2500, 10000]\n",
      "\n",
      "Sub Que3\n",
      "[6, 12, 20, 12, 50, 100]\n",
      "Sum digits of even numbers:  [6, 3, 2, 3, 5, 1]\n",
      "\n",
      "Sub Que4\n",
      "[3, 6, 9, 12, 12, 15, 20, 25, 50, 99, 100]\n",
      "[3, 6, 9, 12, 15, 20, 25, 50, 99, 100]\n"
     ]
    }
   ],
   "source": [
    "dateOfTransaction = [3, 6, 9, 12, 15, 20, 25, 12, 50, 100, 99]\n",
    "\n",
    "q1 = [x for x in dateOfTransaction if x%3==0 ]\n",
    "print(\"Question1:\\nSub Que1\")\n",
    "print(q1)\n",
    "\n",
    "evenNumbers = [x for x in dateOfTransaction if x%2==0]\n",
    "q2 = [x*x for x in dateOfTransaction if x%2==0]\n",
    "print(\"\\nSub Que2\")\n",
    "print(\"Even numbers: \",evenNumbers)\n",
    "print(\"Square of even numbers: \",q2)\n",
    "\n",
    "q3 = [sum(map(int, str(x))) for x in evenNumbers]\n",
    "print(\"\\nSub Que3\")\n",
    "print(evenNumbers)\n",
    "print(\"Sum digits of even numbers: \",q3)\n",
    "\n",
    "sortedList = sorted(dateOfTransaction)\n",
    "length = len(sortedList)-1\n",
    "q4 = [sortedList[x] for x in range(10) if sortedList[x] != sortedList[x+1]]\n",
    "q4.append(sortedList[length])\n",
    "print(\"\\nSub Que4\")\n",
    "print(sortedList)\n",
    "print(q4)\n",
    "# q4 = [x for x in sortedList if x!=sortedList[x+1]]"
   ]
  },
  {
   "cell_type": "code",
   "execution_count": 1,
   "metadata": {},
   "outputs": [
    {
     "name": "stdout",
     "output_type": "stream",
     "text": [
      "30 April 1987\n"
     ]
    }
   ],
   "source": [
    "test = { \"Virat Kohli\": \"5 November 1988\", \"Umesh Yadav\": \"25 October 1987\", \"Manish Pandey\":\n",
    "\"10 September 1989\", \"Rohit Sharma\": \"30 April 1987\", \"Ravindra Jadeja\": \"6 December 1988\", \"Hardik Pandya\": \"11 October 1993\" }\n",
    "\n",
    "def birthDate(name):\n",
    "    print(test[name])\n",
    "\n",
    "birthDate(\"Rohit Sharma\")"
   ]
  }
 ],
 "metadata": {
  "kernelspec": {
   "display_name": "Python 3",
   "language": "python",
   "name": "python3"
  },
  "language_info": {
   "codemirror_mode": {
    "name": "ipython",
    "version": 3
   },
   "file_extension": ".py",
   "mimetype": "text/x-python",
   "name": "python",
   "nbconvert_exporter": "python",
   "pygments_lexer": "ipython3",
   "version": "3.11.4"
  },
  "orig_nbformat": 4
 },
 "nbformat": 4,
 "nbformat_minor": 2
}
