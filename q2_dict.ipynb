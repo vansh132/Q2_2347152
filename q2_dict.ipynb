{
 "cells": [
  {
   "cell_type": "code",
   "execution_count": 2,
   "metadata": {},
   "outputs": [
    {
     "name": "stdout",
     "output_type": "stream",
     "text": [
      "30 April 1987\n"
     ]
    }
   ],
   "source": [
    "test = { \"Virat Kohli\": \"5 November 1988\", \"Umesh Yadav\": \"25 October 1987\", \"Manish Pandey\":\n",
    "\"10 September 1989\", \"Rohit Sharma\": \"30 April 1987\", \"Ravindra Jadeja\": \"6 December 1988\", \"Hardik Pandya\": \"11 October 1993\" }\n",
    "\n",
    "def birthDate(name):\n",
    "    print(test[name])\n",
    "\n",
    "birthDate(\"Rohit Sharma\")"
   ]
  },
  {
   "cell_type": "code",
   "execution_count": null,
   "metadata": {},
   "outputs": [],
   "source": []
  }
 ],
 "metadata": {
  "kernelspec": {
   "display_name": "Python 3",
   "language": "python",
   "name": "python3"
  },
  "language_info": {
   "codemirror_mode": {
    "name": "ipython",
    "version": 3
   },
   "file_extension": ".py",
   "mimetype": "text/x-python",
   "name": "python",
   "nbconvert_exporter": "python",
   "pygments_lexer": "ipython3",
   "version": "3.11.4"
  },
  "orig_nbformat": 4
 },
 "nbformat": 4,
 "nbformat_minor": 2
}
